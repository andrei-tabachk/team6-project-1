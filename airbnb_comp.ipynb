{
 "cells": [
  {
   "cell_type": "code",
   "execution_count": 2,
   "metadata": {},
   "outputs": [],
   "source": [
    "# Dependencies and Setup\n",
    "import matplotlib.pyplot as plt\n",
    "import pandas as pd\n",
    "import numpy as np\n",
    "import requests\n",
    "import time\n",
    "from scipy.stats import linregress"
   ]
  },
  {
   "cell_type": "code",
   "execution_count": 9,
   "metadata": {},
   "outputs": [],
   "source": [
    "#locating files\n",
    "ams_weekday_csv = \"Resources/amsterdam_weekdays.csv\"\n",
    "ams_weekend_csv = \"Resources/amsterdam_weekends.csv\"\n",
    "lond_weekday_csv = \"Resources/london_weekdays.csv\"\n",
    "lond_weekend_csv = \"Resources/london_weekends.csv\"\n",
    "paris_weekday_csv = \"Resources/paris_weekdays.csv\"\n",
    "paris_weekend_csv = \"Resources/paris_weekends.csv\"\n"
   ]
  },
  {
   "cell_type": "code",
   "execution_count": 12,
   "metadata": {},
   "outputs": [],
   "source": [
    "#make files readable\n",
    "ams_weekday_df = pd.read_csv(ams_weekday_csv)\n",
    "ams_weekend_df = pd.read_csv(ams_weekend_csv)\n",
    "lond_weekday_df = pd.read_csv(lond_weekday_csv)\n",
    "lond_weekend_df = pd.read_csv(lond_weekend_csv)\n",
    "paris_weekday_df = pd.read_csv(paris_weekday_csv)\n",
    "paris_weekend_df = pd.read_csv(paris_weekend_csv)\n"
   ]
  }
 ],
 "metadata": {
  "kernelspec": {
   "display_name": "base",
   "language": "python",
   "name": "python3"
  },
  "language_info": {
   "codemirror_mode": {
    "name": "ipython",
    "version": 3
   },
   "file_extension": ".py",
   "mimetype": "text/x-python",
   "name": "python",
   "nbconvert_exporter": "python",
   "pygments_lexer": "ipython3",
   "version": "3.9.13"
  },
  "orig_nbformat": 4
 },
 "nbformat": 4,
 "nbformat_minor": 2
}

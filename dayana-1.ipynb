{
 "cells": [
  {
   "cell_type": "code",
   "execution_count": 1,
   "metadata": {},
   "outputs": [
    {
     "name": "stderr",
     "output_type": "stream",
     "text": [
      "Matplotlib is building the font cache; this may take a moment.\n"
     ]
    }
   ],
   "source": [
    "# Dependencies and Setup\n",
    "import matplotlib.pyplot as plt\n",
    "import pandas as pd\n",
    "import numpy as np\n",
    "import requests\n",
    "import time\n",
    "from scipy.stats import linregress\n",
    "import scipy.stats as st"
   ]
  },
  {
   "cell_type": "code",
   "execution_count": null,
   "metadata": {},
   "outputs": [],
   "source": [
    "#Price comparison of weekdays vs Weekends per city\n",
    "#locating files\n",
    "ams_weekday_csv = \"Resources/amsterdam_weekdays.csv\"\n",
    "ams_weekend_csv = \"Resources/amsterdam_weekends.csv\"\n",
    "lond_weekday_csv = \"Resources/london_weekdays.csv\"\n",
    "lond_weekend_csv = \"Resources/london_weekends.csv\"\n",
    "paris_weekday_csv = \"Resources/paris_weekdays.csv\"\n",
    "paris_weekend_csv = \"Resources/paris_weekends.csv\"\n"
   ]
  },
  {
   "cell_type": "code",
   "execution_count": null,
   "metadata": {},
   "outputs": [],
   "source": [
    "#make files readable\n",
    "ams_weekday_df = pd.read_csv(ams_weekday_csv)\n",
    "ams_weekend_df = pd.read_csv(ams_weekend_csv)\n",
    "lond_weekday_df = pd.read_csv(lond_weekday_csv)\n",
    "lond_weekend_df = pd.read_csv(lond_weekend_csv)\n",
    "paris_weekday_df = pd.read_csv(paris_weekday_csv)\n",
    "paris_weekend_df = pd.read_csv(paris_weekend_csv)\n"
   ]
  },
  {
   "cell_type": "code",
   "execution_count": null,
   "metadata": {},
   "outputs": [],
   "source": [
    "#added column to each file to indicate if weekend or weekday line item\n",
    "ams_weekday_df['Weekday or Weekend'] = 'Weekday'\n",
    "ams_weekday_df['City'] = 'Amsterdam'\n",
    "ams_weekend_df['Weekday or Weekend']= 'Weekend'\n",
    "ams_weekend_df['City'] = 'Amsterdam'\n",
    "lond_weekday_df['Weekday or Weekend'] = 'Weekday'\n",
    "lond_weekday_df['City'] = 'London'\n",
    "lond_weekend_df['Weekday or Weekend'] = 'Weekend'\n",
    "lond_weekend_df['City'] = 'London'\n",
    "paris_weekday_df['Weekday or Weekend'] = 'Weekday'\n",
    "paris_weekday_df['City'] = 'Paris'\n",
    "paris_weekend_df['Weekday or Weekend'] ='Weekend'\n",
    "paris_weekend_df['City'] = 'Paris'"
   ]
  },
  {
   "cell_type": "code",
   "execution_count": null,
   "metadata": {},
   "outputs": [],
   "source": [
    "#stack files\n",
    "complete_data_df = pd.concat([ams_weekday_df,ams_weekend_df,lond_weekday_df,lond_weekend_df,paris_weekday_df,paris_weekend_df], ignore_index=True)\n",
    "complete_data_df"
   ]
  },
  {
   "cell_type": "code",
   "execution_count": null,
   "metadata": {},
   "outputs": [],
   "source": [
    "#list column names\n",
    "complete_data_df.columns"
   ]
  },
  {
   "cell_type": "code",
   "execution_count": null,
   "metadata": {},
   "outputs": [],
   "source": [
    "# drop some columns for easier processing\n",
    "complete_data_df = complete_data_df.drop('attr_index',axis=1)\n",
    "complete_data_df = complete_data_df.drop('attr_index_norm',axis=1)\n",
    "complete_data_df = complete_data_df.drop('rest_index_norm',axis=1)\n",
    "complete_data_df"
   ]
  },
  {
   "cell_type": "code",
   "execution_count": null,
   "metadata": {},
   "outputs": [],
   "source": [
    "complete_data_df = complete_data_df.drop('rest_index',axis=1)\n",
    "complete_data_df"
   ]
  },
  {
   "cell_type": "code",
   "execution_count": null,
   "metadata": {},
   "outputs": [],
   "source": [
    "#split data into 3 different sets\n",
    "amsterdam_data = complete_data_df[complete_data_df['City'] == 'Amsterdam']\n",
    "london_data = complete_data_df[complete_data_df['City'] == 'London']\n",
    "paris_data = complete_data_df[complete_data_df['City'] == 'Paris']"
   ]
  },
  {
   "cell_type": "code",
   "execution_count": null,
   "metadata": {},
   "outputs": [],
   "source": [
    "df.columns"
   ]
  },
  {
   "cell_type": "code",
   "execution_count": null,
   "metadata": {},
   "outputs": [],
   "source": [
    "feature = ['realSum','Weekday or Weekend', 'City'],\n",
    "    "
   ]
  },
  {
   "cell_type": "code",
   "execution_count": null,
   "metadata": {},
   "outputs": [],
   "source": [
    "list(enumerate(feature)) "
   ]
  },
  {
   "cell_type": "code",
   "execution_count": null,
   "metadata": {},
   "outputs": [],
   "source": [
    "plt.figure(figsize = (15, 30))\n",
    "for i in enumerate(feature):\n",
    "    plt.subplot(6, 3,i[0+1])\n",
    "    sns.countplot(i[1]', hue = 'Weekday or Weekend', data = df)"
   ]
  },
  {
   "cell_type": "code",
   "execution_count": null,
   "metadata": {},
   "outputs": [],
   "source": [
    "\n",
    "plt.figure(figsize = (15, 30))"
   ]
  },
  {
   "cell_type": "code",
   "execution_count": null,
   "metadata": {},
   "outputs": [],
   "source": [
    "Weekday_or_Weekend_df = complete_data_df.groupby(['Weekday or Weekend',\"City\"])\n",
    "Weekday_or_Weekend_mean = Weekday_or_Weekend_df[\"realSum\"].mean()\n",
    "Weekday_or_Weekend_summary = pd.DataFrame({\"Average price per city\": Weekday_or_Weekend_mean})\n",
    "Weekday_or_Weekend_summary.head(10)"
   ]
  },
  {
   "cell_type": "code",
   "execution_count": null,
   "metadata": {},
   "outputs": [],
   "source": [
    "# Getting all the data for Amsterdam\n",
    "Weekday_or_Weekend_city_ams = complete_data_df.loc[complete_data_df[\"City\"] == \"Amsterdam\",:]\n",
    "room_type_city_ams"
   ]
  },
  {
   "cell_type": "code",
   "execution_count": null,
   "metadata": {},
   "outputs": [],
   "source": [
    "import numpy as np\n",
    "import matplotlib.pyplot as plt\n",
    "  \n",
    "N = 3\n",
    "ind = np.arange(N) \n",
    "width = 0.25\n",
    "  \n",
    "xvals = [8, 9, 2]\n",
    "bar1 = plt.bar(ind, xvals, width, color = 'r')\n",
    "  \n",
    "yvals = [10, 20, 30]\n",
    "bar2 = plt.bar(ind+width, yvals, width, color='g')\n",
    "  \n",
    "zvals = [11, 12, 13]\n",
    "bar3 = plt.bar(ind+width*2, zvals, width, color = 'b')\n",
    "  \n",
    "plt.xlabel(\"city\")\n",
    "plt.ylabel('realSum')\n",
    "plt.title(\"Price comparison of weekdays vs weekends\")\n",
    "  \n",
    "plt.xticks(ind+width,['2021Feb01', '2021Feb02', '2021Feb03'])\n",
    "plt.legend( (bar1, bar2, bar3), ('Amsterdam', 'london', 'paris') )\n",
    "plt.show()"
   ]
  },
  {
   "cell_type": "code",
   "execution_count": null,
   "metadata": {},
   "outputs": [],
   "source": [
    "# Getting all the data for London\n",
    "room_type_city_lon = complete_data_df.loc[complete_data_df[\"City\"] == \"london\":]\n",
    "room_type_city_lon"
   ]
  },
  {
   "cell_type": "code",
   "execution_count": null,
   "metadata": {},
   "outputs": [],
   "source": [
    "# Getting all the data for Paris\n",
    "room_type_city_par = complete_data_df.loc[complete_data_df[\"City\"] == \"Paris\",:]\n",
    "room_type_city_par"
   ]
  }
 ],
 "metadata": {
  "kernelspec": {
   "display_name": "base",
   "language": "python",
   "name": "python3"
  },
  "language_info": {
   "codemirror_mode": {
    "name": "ipython",
    "version": 3
   },
   "file_extension": ".py",
   "mimetype": "text/x-python",
   "name": "python",
   "nbconvert_exporter": "python",
   "pygments_lexer": "ipython3",
   "version": "3.9.13"
  },
  "orig_nbformat": 4
 },
 "nbformat": 4,
 "nbformat_minor": 2
}
